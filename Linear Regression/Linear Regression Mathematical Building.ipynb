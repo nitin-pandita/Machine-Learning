{
 "cells": [
  {
   "cell_type": "code",
   "execution_count": 31,
   "id": "b49c2f04",
   "metadata": {},
   "outputs": [],
   "source": [
    "import numpy as np\n"
   ]
  },
  {
   "cell_type": "code",
   "execution_count": 32,
   "id": "1b673902",
   "metadata": {},
   "outputs": [],
   "source": [
    "data = np.loadtxt('data.csv', delimiter=\",\")"
   ]
  },
  {
   "cell_type": "code",
   "execution_count": 33,
   "id": "bd5b2abf",
   "metadata": {},
   "outputs": [],
   "source": [
    "x = data[:, 0]\n",
    "y = data[:, 1] "
   ]
  },
  {
   "cell_type": "code",
   "execution_count": 34,
   "id": "ef8c3634",
   "metadata": {},
   "outputs": [],
   "source": [
    "from sklearn import model_selection\n",
    "x_train,x_test,y_train,y_test = model_selection.train_test_split(x,y,test_size=0.3)"
   ]
  },
  {
   "cell_type": "code",
   "execution_count": 36,
   "id": "3078c893",
   "metadata": {},
   "outputs": [
    {
     "data": {
      "text/plain": [
       "(70,)"
      ]
     },
     "execution_count": 36,
     "metadata": {},
     "output_type": "execute_result"
    }
   ],
   "source": [
    "x_train.shape"
   ]
  },
  {
   "cell_type": "code",
   "execution_count": 37,
   "id": "fc605997",
   "metadata": {},
   "outputs": [],
   "source": [
    "# function fit\n",
    "\n",
    "def fit(x_train,y_train):\n",
    "    num = (x_train * y_train).mean() - x_train.mean() * y_train.mean()\n",
    "    dem = (x_train ** 2).mean() - x_train.mean() ** 2\n",
    "    m = num / dem\n",
    "    c = y_train.mean() - m * x_train.mean()\n",
    "    return m, c"
   ]
  },
  {
   "cell_type": "code",
   "execution_count": 42,
   "id": "b9e0e0c0",
   "metadata": {},
   "outputs": [],
   "source": [
    "#function predict\n",
    "def predict(x,m,c):\n",
    "    return m * x + c\n",
    "# function for score\n",
    "def score(y_truth, y_predict):\n",
    "    u = ((y_truth - y_predict)**2).sum()\n",
    "    v = ((y_truth - y_truth.mean())**2).sum()\n",
    "    return 1 - u/v\n",
    "# cost function\n",
    "def cost(x, y, m, c):\n",
    "    return ((y - m * x -c)**2).sum()"
   ]
  },
  {
   "cell_type": "code",
   "execution_count": null,
   "id": "2e6e4e52",
   "metadata": {},
   "outputs": [],
   "source": [
    "# two variables\n",
    "def predict2(m1,x1,m2,x2,c):\n",
    "    return m1*x1 + m2*x2 + c"
   ]
  },
  {
   "cell_type": "code",
   "execution_count": 45,
   "id": "e1e8234e",
   "metadata": {},
   "outputs": [
    {
     "name": "stdout",
     "output_type": "stream",
     "text": [
      "Test Score  :  0.6822093939685248\n",
      "Train score :  0.5545306794367342\n",
      "M, C :  1.3011458042010462 8.73039527142668\n",
      "Cost on the training data :>  8055.907713430892\n",
      "Cost on the training data :>  8586692.601618249\n"
     ]
    }
   ],
   "source": [
    "m, c = fit(x_train,y_train)\n",
    "\n",
    "#test data \n",
    "y_test_pred = predict(x_test,m,c)\n",
    "print(\"Test Score  : \",score(y_test,y_test_pred))\n",
    "\n",
    "#train data \n",
    "y_train_pred = predict(x_train,m, c)\n",
    "print(\"Train score : \",score(y_train,y_train_pred))\n",
    "print(\"M, C : \",m, c)\n",
    "print(\"Cost on the training data :> \",cost(x_train,y_train,m,c))\n",
    "print(\"Cost on the training data :> \",cost(x_train,y_train,m +7,c))"
   ]
  },
  {
   "cell_type": "code",
   "execution_count": null,
   "id": "c4bb1a85",
   "metadata": {},
   "outputs": [],
   "source": []
  }
 ],
 "metadata": {
  "kernelspec": {
   "display_name": "Python 3 (ipykernel)",
   "language": "python",
   "name": "python3"
  },
  "language_info": {
   "codemirror_mode": {
    "name": "ipython",
    "version": 3
   },
   "file_extension": ".py",
   "mimetype": "text/x-python",
   "name": "python",
   "nbconvert_exporter": "python",
   "pygments_lexer": "ipython3",
   "version": "3.10.9"
  }
 },
 "nbformat": 4,
 "nbformat_minor": 5
}
