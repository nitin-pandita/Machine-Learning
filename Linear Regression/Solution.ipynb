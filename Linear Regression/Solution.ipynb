{
 "cells": [
  {
   "cell_type": "code",
   "execution_count": 17,
   "metadata": {},
   "outputs": [],
   "source": [
    "import numpy as np\n",
    "data=np.genfromtxt(\"0000000000002329_training_diabetes_x_y_train.csv\",delimiter=',')\n",
    "x=data[:,:10]\n",
    "y=data[:,10]\n",
    "data=np.genfromtxt(\"0000000000002329_test_diabetes_x_test.csv\",delimiter=',')\n",
    "X=data[:,:10]\n",
    "from sklearn.linear_model import LinearRegression\n",
    "alg=LinearRegression()\n",
    "alg.fit(x,y)\n",
    "ans=alg.predict(X)\n",
    "for i in range(len(ans)):\n",
    "    ans[i]=format(ans[i],'.5f')\n",
    "np.savetxt('ans2.csv',ans,fmt='%.5f')"
   ]
  }
 ],
 "metadata": {
  "kernelspec": {
   "display_name": "Python 3 (ipykernel)",
   "language": "python",
   "name": "python3"
  },
  "language_info": {
   "codemirror_mode": {
    "name": "ipython",
    "version": 3
   },
   "file_extension": ".py",
   "mimetype": "text/x-python",
   "name": "python",
   "nbconvert_exporter": "python",
   "pygments_lexer": "ipython3",
   "version": "3.10.9"
  }
 },
 "nbformat": 4,
 "nbformat_minor": 2
}
