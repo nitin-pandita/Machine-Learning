{
 "cells": [
  {
   "cell_type": "code",
   "execution_count": 1,
   "id": "1bca4c86",
   "metadata": {},
   "outputs": [],
   "source": [
    "import pandas as pd\n",
    "\n"
   ]
  },
  {
   "cell_type": "code",
   "execution_count": 2,
   "id": "d9d550c1",
   "metadata": {},
   "outputs": [],
   "source": [
    "from sklearn import datasets"
   ]
  },
  {
   "cell_type": "code",
   "execution_count": 11,
   "id": "25471dd8",
   "metadata": {},
   "outputs": [],
   "source": [
    "data = datasets.load_diabetes()\n",
    "\n",
    "X = data.data"
   ]
  },
  {
   "cell_type": "code",
   "execution_count": 9,
   "id": "3bdee34a",
   "metadata": {},
   "outputs": [],
   "source": [
    "df = pd.DataFrame(data.data, columns=data.feature_names)"
   ]
  },
  {
   "cell_type": "code",
   "execution_count": 42,
   "id": "db5955ac",
   "metadata": {},
   "outputs": [],
   "source": [
    "features = data['feature_names']"
   ]
  },
  {
   "cell_type": "code",
   "execution_count": 55,
   "id": "ba9f929f",
   "metadata": {},
   "outputs": [
    {
     "ename": "AttributeError",
     "evalue": "'DataFrame' object has no attribute 'column'",
     "output_type": "error",
     "traceback": [
      "\u001b[1;31m---------------------------------------------------------------------------\u001b[0m",
      "\u001b[1;31mAttributeError\u001b[0m                            Traceback (most recent call last)",
      "Cell \u001b[1;32mIn[55], line 2\u001b[0m\n\u001b[0;32m      1\u001b[0m \u001b[38;5;28;01mfor\u001b[39;00m column \u001b[38;5;129;01min\u001b[39;00m features:\n\u001b[1;32m----> 2\u001b[0m     df[\u001b[38;5;124m'\u001b[39m\u001b[38;5;124mcolumn_column\u001b[39m\u001b[38;5;124m'\u001b[39m] \u001b[38;5;241m=\u001b[39m \u001b[43mdf\u001b[49m\u001b[38;5;241;43m.\u001b[39;49m\u001b[43mcolumn\u001b[49m \u001b[38;5;241m*\u001b[39m\u001b[38;5;241m*\u001b[39m \u001b[38;5;241m2\u001b[39m\n",
      "File \u001b[1;32mE:\\Anaconda\\lib\\site-packages\\pandas\\core\\generic.py:5902\u001b[0m, in \u001b[0;36mNDFrame.__getattr__\u001b[1;34m(self, name)\u001b[0m\n\u001b[0;32m   5895\u001b[0m \u001b[38;5;28;01mif\u001b[39;00m (\n\u001b[0;32m   5896\u001b[0m     name \u001b[38;5;129;01mnot\u001b[39;00m \u001b[38;5;129;01min\u001b[39;00m \u001b[38;5;28mself\u001b[39m\u001b[38;5;241m.\u001b[39m_internal_names_set\n\u001b[0;32m   5897\u001b[0m     \u001b[38;5;129;01mand\u001b[39;00m name \u001b[38;5;129;01mnot\u001b[39;00m \u001b[38;5;129;01min\u001b[39;00m \u001b[38;5;28mself\u001b[39m\u001b[38;5;241m.\u001b[39m_metadata\n\u001b[0;32m   5898\u001b[0m     \u001b[38;5;129;01mand\u001b[39;00m name \u001b[38;5;129;01mnot\u001b[39;00m \u001b[38;5;129;01min\u001b[39;00m \u001b[38;5;28mself\u001b[39m\u001b[38;5;241m.\u001b[39m_accessors\n\u001b[0;32m   5899\u001b[0m     \u001b[38;5;129;01mand\u001b[39;00m \u001b[38;5;28mself\u001b[39m\u001b[38;5;241m.\u001b[39m_info_axis\u001b[38;5;241m.\u001b[39m_can_hold_identifiers_and_holds_name(name)\n\u001b[0;32m   5900\u001b[0m ):\n\u001b[0;32m   5901\u001b[0m     \u001b[38;5;28;01mreturn\u001b[39;00m \u001b[38;5;28mself\u001b[39m[name]\n\u001b[1;32m-> 5902\u001b[0m \u001b[38;5;28;01mreturn\u001b[39;00m \u001b[38;5;28;43mobject\u001b[39;49m\u001b[38;5;241;43m.\u001b[39;49m\u001b[38;5;21;43m__getattribute__\u001b[39;49m\u001b[43m(\u001b[49m\u001b[38;5;28;43mself\u001b[39;49m\u001b[43m,\u001b[49m\u001b[43m \u001b[49m\u001b[43mname\u001b[49m\u001b[43m)\u001b[49m\n",
      "\u001b[1;31mAttributeError\u001b[0m: 'DataFrame' object has no attribute 'column'"
     ]
    }
   ],
   "source": [
    "for column in features:\n",
    "    df['column_column'] = df.column ** 2 "
   ]
  },
  {
   "cell_type": "code",
   "execution_count": null,
   "id": "064a90c6",
   "metadata": {},
   "outputs": [],
   "source": []
  },
  {
   "cell_type": "code",
   "execution_count": null,
   "id": "276d0ffb",
   "metadata": {},
   "outputs": [],
   "source": []
  },
  {
   "cell_type": "code",
   "execution_count": 54,
   "id": "78b01920",
   "metadata": {},
   "outputs": [
    {
     "data": {
      "text/html": [
       "<div>\n",
       "<style scoped>\n",
       "    .dataframe tbody tr th:only-of-type {\n",
       "        vertical-align: middle;\n",
       "    }\n",
       "\n",
       "    .dataframe tbody tr th {\n",
       "        vertical-align: top;\n",
       "    }\n",
       "\n",
       "    .dataframe thead th {\n",
       "        text-align: right;\n",
       "    }\n",
       "</style>\n",
       "<table border=\"1\" class=\"dataframe\">\n",
       "  <thead>\n",
       "    <tr style=\"text-align: right;\">\n",
       "      <th></th>\n",
       "      <th>age</th>\n",
       "      <th>sex</th>\n",
       "      <th>bmi</th>\n",
       "      <th>bp</th>\n",
       "      <th>s1</th>\n",
       "      <th>s2</th>\n",
       "      <th>s3</th>\n",
       "      <th>s4</th>\n",
       "      <th>s5</th>\n",
       "      <th>s6</th>\n",
       "      <th>age_age</th>\n",
       "      <th>sex_sex</th>\n",
       "      <th>bmi_bmi</th>\n",
       "      <th>bp_bp</th>\n",
       "    </tr>\n",
       "  </thead>\n",
       "  <tbody>\n",
       "    <tr>\n",
       "      <th>0</th>\n",
       "      <td>0.038076</td>\n",
       "      <td>3.587600e-42</td>\n",
       "      <td>1.942096e-39</td>\n",
       "      <td>7.527952e-54</td>\n",
       "      <td>-0.044223</td>\n",
       "      <td>-0.034821</td>\n",
       "      <td>-0.043401</td>\n",
       "      <td>-0.002592</td>\n",
       "      <td>0.019907</td>\n",
       "      <td>-0.017646</td>\n",
       "      <td>0.001450</td>\n",
       "      <td>1.287087e-83</td>\n",
       "      <td>3.771738e-78</td>\n",
       "      <td>5.667007e-107</td>\n",
       "    </tr>\n",
       "    <tr>\n",
       "      <th>1</th>\n",
       "      <td>-0.001882</td>\n",
       "      <td>6.189897e-44</td>\n",
       "      <td>5.899700e-42</td>\n",
       "      <td>2.838721e-51</td>\n",
       "      <td>-0.008449</td>\n",
       "      <td>-0.019163</td>\n",
       "      <td>0.074412</td>\n",
       "      <td>-0.039493</td>\n",
       "      <td>-0.068332</td>\n",
       "      <td>-0.092204</td>\n",
       "      <td>0.000004</td>\n",
       "      <td>3.831482e-87</td>\n",
       "      <td>3.480646e-83</td>\n",
       "      <td>8.058338e-102</td>\n",
       "    </tr>\n",
       "    <tr>\n",
       "      <th>2</th>\n",
       "      <td>0.085299</td>\n",
       "      <td>3.587600e-42</td>\n",
       "      <td>5.398534e-44</td>\n",
       "      <td>1.305248e-72</td>\n",
       "      <td>-0.045599</td>\n",
       "      <td>-0.034194</td>\n",
       "      <td>-0.032356</td>\n",
       "      <td>-0.002592</td>\n",
       "      <td>0.002861</td>\n",
       "      <td>-0.025930</td>\n",
       "      <td>0.007276</td>\n",
       "      <td>1.287087e-83</td>\n",
       "      <td>2.914417e-87</td>\n",
       "      <td>1.703671e-144</td>\n",
       "    </tr>\n",
       "    <tr>\n",
       "      <th>3</th>\n",
       "      <td>-0.089063</td>\n",
       "      <td>6.189897e-44</td>\n",
       "      <td>1.139414e-62</td>\n",
       "      <td>1.128946e-46</td>\n",
       "      <td>0.012191</td>\n",
       "      <td>0.024991</td>\n",
       "      <td>-0.036038</td>\n",
       "      <td>0.034309</td>\n",
       "      <td>0.022688</td>\n",
       "      <td>-0.009362</td>\n",
       "      <td>0.007932</td>\n",
       "      <td>3.831482e-87</td>\n",
       "      <td>1.298264e-124</td>\n",
       "      <td>1.274518e-92</td>\n",
       "    </tr>\n",
       "    <tr>\n",
       "      <th>4</th>\n",
       "      <td>0.005383</td>\n",
       "      <td>6.189897e-44</td>\n",
       "      <td>8.900176e-47</td>\n",
       "      <td>7.527952e-54</td>\n",
       "      <td>0.003935</td>\n",
       "      <td>0.015596</td>\n",
       "      <td>0.008142</td>\n",
       "      <td>-0.002592</td>\n",
       "      <td>-0.031988</td>\n",
       "      <td>-0.046641</td>\n",
       "      <td>0.000029</td>\n",
       "      <td>3.831482e-87</td>\n",
       "      <td>7.921312e-93</td>\n",
       "      <td>5.667007e-107</td>\n",
       "    </tr>\n",
       "    <tr>\n",
       "      <th>...</th>\n",
       "      <td>...</td>\n",
       "      <td>...</td>\n",
       "      <td>...</td>\n",
       "      <td>...</td>\n",
       "      <td>...</td>\n",
       "      <td>...</td>\n",
       "      <td>...</td>\n",
       "      <td>...</td>\n",
       "      <td>...</td>\n",
       "      <td>...</td>\n",
       "      <td>...</td>\n",
       "      <td>...</td>\n",
       "      <td>...</td>\n",
       "      <td>...</td>\n",
       "    </tr>\n",
       "    <tr>\n",
       "      <th>437</th>\n",
       "      <td>0.041708</td>\n",
       "      <td>3.587600e-42</td>\n",
       "      <td>2.487470e-55</td>\n",
       "      <td>6.939984e-40</td>\n",
       "      <td>-0.005697</td>\n",
       "      <td>-0.002566</td>\n",
       "      <td>-0.028674</td>\n",
       "      <td>-0.002592</td>\n",
       "      <td>0.031193</td>\n",
       "      <td>0.007207</td>\n",
       "      <td>0.001740</td>\n",
       "      <td>1.287087e-83</td>\n",
       "      <td>6.187509e-110</td>\n",
       "      <td>4.816337e-79</td>\n",
       "    </tr>\n",
       "    <tr>\n",
       "      <th>438</th>\n",
       "      <td>-0.005515</td>\n",
       "      <td>3.587600e-42</td>\n",
       "      <td>2.819557e-58</td>\n",
       "      <td>3.688694e-38</td>\n",
       "      <td>0.049341</td>\n",
       "      <td>0.079165</td>\n",
       "      <td>-0.028674</td>\n",
       "      <td>0.034309</td>\n",
       "      <td>-0.018114</td>\n",
       "      <td>0.044485</td>\n",
       "      <td>0.000030</td>\n",
       "      <td>1.287087e-83</td>\n",
       "      <td>7.949903e-116</td>\n",
       "      <td>1.360646e-75</td>\n",
       "    </tr>\n",
       "    <tr>\n",
       "      <th>439</th>\n",
       "      <td>0.041708</td>\n",
       "      <td>3.587600e-42</td>\n",
       "      <td>2.819557e-58</td>\n",
       "      <td>4.094184e-57</td>\n",
       "      <td>-0.037344</td>\n",
       "      <td>-0.013840</td>\n",
       "      <td>-0.024993</td>\n",
       "      <td>-0.011080</td>\n",
       "      <td>-0.046883</td>\n",
       "      <td>0.015491</td>\n",
       "      <td>0.001740</td>\n",
       "      <td>1.287087e-83</td>\n",
       "      <td>7.949903e-116</td>\n",
       "      <td>1.676234e-113</td>\n",
       "    </tr>\n",
       "    <tr>\n",
       "      <th>440</th>\n",
       "      <td>-0.045472</td>\n",
       "      <td>6.189897e-44</td>\n",
       "      <td>8.633714e-46</td>\n",
       "      <td>5.124356e-94</td>\n",
       "      <td>0.016318</td>\n",
       "      <td>0.015283</td>\n",
       "      <td>-0.028674</td>\n",
       "      <td>0.026560</td>\n",
       "      <td>0.044529</td>\n",
       "      <td>-0.025930</td>\n",
       "      <td>0.002068</td>\n",
       "      <td>3.831482e-87</td>\n",
       "      <td>7.454101e-91</td>\n",
       "      <td>2.625903e-187</td>\n",
       "    </tr>\n",
       "    <tr>\n",
       "      <th>441</th>\n",
       "      <td>-0.045472</td>\n",
       "      <td>6.189897e-44</td>\n",
       "      <td>4.286464e-37</td>\n",
       "      <td>1.387474e-35</td>\n",
       "      <td>0.083740</td>\n",
       "      <td>0.027809</td>\n",
       "      <td>0.173816</td>\n",
       "      <td>-0.039493</td>\n",
       "      <td>-0.004222</td>\n",
       "      <td>0.003064</td>\n",
       "      <td>0.002068</td>\n",
       "      <td>3.831482e-87</td>\n",
       "      <td>1.837378e-73</td>\n",
       "      <td>1.925084e-70</td>\n",
       "    </tr>\n",
       "  </tbody>\n",
       "</table>\n",
       "<p>442 rows × 14 columns</p>\n",
       "</div>"
      ],
      "text/plain": [
       "          age           sex           bmi            bp        s1        s2  \\\n",
       "0    0.038076  3.587600e-42  1.942096e-39  7.527952e-54 -0.044223 -0.034821   \n",
       "1   -0.001882  6.189897e-44  5.899700e-42  2.838721e-51 -0.008449 -0.019163   \n",
       "2    0.085299  3.587600e-42  5.398534e-44  1.305248e-72 -0.045599 -0.034194   \n",
       "3   -0.089063  6.189897e-44  1.139414e-62  1.128946e-46  0.012191  0.024991   \n",
       "4    0.005383  6.189897e-44  8.900176e-47  7.527952e-54  0.003935  0.015596   \n",
       "..        ...           ...           ...           ...       ...       ...   \n",
       "437  0.041708  3.587600e-42  2.487470e-55  6.939984e-40 -0.005697 -0.002566   \n",
       "438 -0.005515  3.587600e-42  2.819557e-58  3.688694e-38  0.049341  0.079165   \n",
       "439  0.041708  3.587600e-42  2.819557e-58  4.094184e-57 -0.037344 -0.013840   \n",
       "440 -0.045472  6.189897e-44  8.633714e-46  5.124356e-94  0.016318  0.015283   \n",
       "441 -0.045472  6.189897e-44  4.286464e-37  1.387474e-35  0.083740  0.027809   \n",
       "\n",
       "           s3        s4        s5        s6   age_age       sex_sex  \\\n",
       "0   -0.043401 -0.002592  0.019907 -0.017646  0.001450  1.287087e-83   \n",
       "1    0.074412 -0.039493 -0.068332 -0.092204  0.000004  3.831482e-87   \n",
       "2   -0.032356 -0.002592  0.002861 -0.025930  0.007276  1.287087e-83   \n",
       "3   -0.036038  0.034309  0.022688 -0.009362  0.007932  3.831482e-87   \n",
       "4    0.008142 -0.002592 -0.031988 -0.046641  0.000029  3.831482e-87   \n",
       "..        ...       ...       ...       ...       ...           ...   \n",
       "437 -0.028674 -0.002592  0.031193  0.007207  0.001740  1.287087e-83   \n",
       "438 -0.028674  0.034309 -0.018114  0.044485  0.000030  1.287087e-83   \n",
       "439 -0.024993 -0.011080 -0.046883  0.015491  0.001740  1.287087e-83   \n",
       "440 -0.028674  0.026560  0.044529 -0.025930  0.002068  3.831482e-87   \n",
       "441  0.173816 -0.039493 -0.004222  0.003064  0.002068  3.831482e-87   \n",
       "\n",
       "           bmi_bmi          bp_bp  \n",
       "0     3.771738e-78  5.667007e-107  \n",
       "1     3.480646e-83  8.058338e-102  \n",
       "2     2.914417e-87  1.703671e-144  \n",
       "3    1.298264e-124   1.274518e-92  \n",
       "4     7.921312e-93  5.667007e-107  \n",
       "..             ...            ...  \n",
       "437  6.187509e-110   4.816337e-79  \n",
       "438  7.949903e-116   1.360646e-75  \n",
       "439  7.949903e-116  1.676234e-113  \n",
       "440   7.454101e-91  2.625903e-187  \n",
       "441   1.837378e-73   1.925084e-70  \n",
       "\n",
       "[442 rows x 14 columns]"
      ]
     },
     "execution_count": 54,
     "metadata": {},
     "output_type": "execute_result"
    }
   ],
   "source": [
    "df"
   ]
  },
  {
   "cell_type": "code",
   "execution_count": null,
   "id": "d0a8697b",
   "metadata": {},
   "outputs": [],
   "source": []
  },
  {
   "cell_type": "code",
   "execution_count": 18,
   "id": "f3fc61a3",
   "metadata": {},
   "outputs": [],
   "source": [
    "X = data['data']\n",
    "Y = data['target']"
   ]
  },
  {
   "cell_type": "code",
   "execution_count": 30,
   "id": "e46f14bd",
   "metadata": {},
   "outputs": [
    {
     "data": {
      "text/plain": [
       "array([[ 3.80759064e-02,  5.06801187e-02,  6.16962065e-02, ...,\n",
       "         1.99074862e-02, -1.76461252e-02,  1.44977465e-03],\n",
       "       [-1.88201653e-03, -4.46416365e-02, -5.14740612e-02, ...,\n",
       "        -6.83315471e-02, -9.22040496e-02,  3.54198621e-06],\n",
       "       [ 8.52989063e-02,  5.06801187e-02,  4.44512133e-02, ...,\n",
       "         2.86130929e-03, -2.59303390e-02,  7.27590342e-03],\n",
       "       ...,\n",
       "       [ 4.17084449e-02,  5.06801187e-02, -1.59062628e-02, ...,\n",
       "        -4.68825342e-02,  1.54907302e-02,  1.73959437e-03],\n",
       "       [-4.54724779e-02, -4.46416365e-02,  3.90621530e-02, ...,\n",
       "         4.45287288e-02, -2.59303390e-02,  2.06774625e-03],\n",
       "       [-4.54724779e-02, -4.46416365e-02, -7.30303027e-02, ...,\n",
       "        -4.22151394e-03,  3.06440941e-03,  2.06774625e-03]])"
      ]
     },
     "execution_count": 30,
     "metadata": {},
     "output_type": "execute_result"
    }
   ],
   "source": [
    "X2 = df.values\n",
    "X2"
   ]
  },
  {
   "cell_type": "code",
   "execution_count": 19,
   "id": "b6a912e2",
   "metadata": {},
   "outputs": [],
   "source": [
    "from sklearn.model_selection import train_test_split"
   ]
  },
  {
   "cell_type": "code",
   "execution_count": 31,
   "id": "17335140",
   "metadata": {},
   "outputs": [],
   "source": [
    "x_train,x_test,y_train,y_test = train_test_split(X,Y, random_state=0)\n",
    "x2_train,x2_test,y2_train,y2_test = train_test_split(X2,Y, random_state=0)"
   ]
  },
  {
   "cell_type": "code",
   "execution_count": 32,
   "id": "7e196337",
   "metadata": {},
   "outputs": [],
   "source": [
    "from sklearn.linear_model import LinearRegression\n",
    "model = LinearRegression()\n",
    "model2 = LinearRegression()\n",
    "\n"
   ]
  },
  {
   "cell_type": "code",
   "execution_count": 33,
   "id": "dcafd146",
   "metadata": {},
   "outputs": [
    {
     "data": {
      "text/html": [
       "<style>#sk-container-id-2 {color: black;background-color: white;}#sk-container-id-2 pre{padding: 0;}#sk-container-id-2 div.sk-toggleable {background-color: white;}#sk-container-id-2 label.sk-toggleable__label {cursor: pointer;display: block;width: 100%;margin-bottom: 0;padding: 0.3em;box-sizing: border-box;text-align: center;}#sk-container-id-2 label.sk-toggleable__label-arrow:before {content: \"▸\";float: left;margin-right: 0.25em;color: #696969;}#sk-container-id-2 label.sk-toggleable__label-arrow:hover:before {color: black;}#sk-container-id-2 div.sk-estimator:hover label.sk-toggleable__label-arrow:before {color: black;}#sk-container-id-2 div.sk-toggleable__content {max-height: 0;max-width: 0;overflow: hidden;text-align: left;background-color: #f0f8ff;}#sk-container-id-2 div.sk-toggleable__content pre {margin: 0.2em;color: black;border-radius: 0.25em;background-color: #f0f8ff;}#sk-container-id-2 input.sk-toggleable__control:checked~div.sk-toggleable__content {max-height: 200px;max-width: 100%;overflow: auto;}#sk-container-id-2 input.sk-toggleable__control:checked~label.sk-toggleable__label-arrow:before {content: \"▾\";}#sk-container-id-2 div.sk-estimator input.sk-toggleable__control:checked~label.sk-toggleable__label {background-color: #d4ebff;}#sk-container-id-2 div.sk-label input.sk-toggleable__control:checked~label.sk-toggleable__label {background-color: #d4ebff;}#sk-container-id-2 input.sk-hidden--visually {border: 0;clip: rect(1px 1px 1px 1px);clip: rect(1px, 1px, 1px, 1px);height: 1px;margin: -1px;overflow: hidden;padding: 0;position: absolute;width: 1px;}#sk-container-id-2 div.sk-estimator {font-family: monospace;background-color: #f0f8ff;border: 1px dotted black;border-radius: 0.25em;box-sizing: border-box;margin-bottom: 0.5em;}#sk-container-id-2 div.sk-estimator:hover {background-color: #d4ebff;}#sk-container-id-2 div.sk-parallel-item::after {content: \"\";width: 100%;border-bottom: 1px solid gray;flex-grow: 1;}#sk-container-id-2 div.sk-label:hover label.sk-toggleable__label {background-color: #d4ebff;}#sk-container-id-2 div.sk-serial::before {content: \"\";position: absolute;border-left: 1px solid gray;box-sizing: border-box;top: 0;bottom: 0;left: 50%;z-index: 0;}#sk-container-id-2 div.sk-serial {display: flex;flex-direction: column;align-items: center;background-color: white;padding-right: 0.2em;padding-left: 0.2em;position: relative;}#sk-container-id-2 div.sk-item {position: relative;z-index: 1;}#sk-container-id-2 div.sk-parallel {display: flex;align-items: stretch;justify-content: center;background-color: white;position: relative;}#sk-container-id-2 div.sk-item::before, #sk-container-id-2 div.sk-parallel-item::before {content: \"\";position: absolute;border-left: 1px solid gray;box-sizing: border-box;top: 0;bottom: 0;left: 50%;z-index: -1;}#sk-container-id-2 div.sk-parallel-item {display: flex;flex-direction: column;z-index: 1;position: relative;background-color: white;}#sk-container-id-2 div.sk-parallel-item:first-child::after {align-self: flex-end;width: 50%;}#sk-container-id-2 div.sk-parallel-item:last-child::after {align-self: flex-start;width: 50%;}#sk-container-id-2 div.sk-parallel-item:only-child::after {width: 0;}#sk-container-id-2 div.sk-dashed-wrapped {border: 1px dashed gray;margin: 0 0.4em 0.5em 0.4em;box-sizing: border-box;padding-bottom: 0.4em;background-color: white;}#sk-container-id-2 div.sk-label label {font-family: monospace;font-weight: bold;display: inline-block;line-height: 1.2em;}#sk-container-id-2 div.sk-label-container {text-align: center;}#sk-container-id-2 div.sk-container {/* jupyter's `normalize.less` sets `[hidden] { display: none; }` but bootstrap.min.css set `[hidden] { display: none !important; }` so we also need the `!important` here to be able to override the default hidden behavior on the sphinx rendered scikit-learn.org. See: https://github.com/scikit-learn/scikit-learn/issues/21755 */display: inline-block !important;position: relative;}#sk-container-id-2 div.sk-text-repr-fallback {display: none;}</style><div id=\"sk-container-id-2\" class=\"sk-top-container\"><div class=\"sk-text-repr-fallback\"><pre>LinearRegression()</pre><b>In a Jupyter environment, please rerun this cell to show the HTML representation or trust the notebook. <br />On GitHub, the HTML representation is unable to render, please try loading this page with nbviewer.org.</b></div><div class=\"sk-container\" hidden><div class=\"sk-item\"><div class=\"sk-estimator sk-toggleable\"><input class=\"sk-toggleable__control sk-hidden--visually\" id=\"sk-estimator-id-2\" type=\"checkbox\" checked><label for=\"sk-estimator-id-2\" class=\"sk-toggleable__label sk-toggleable__label-arrow\">LinearRegression</label><div class=\"sk-toggleable__content\"><pre>LinearRegression()</pre></div></div></div></div></div>"
      ],
      "text/plain": [
       "LinearRegression()"
      ]
     },
     "execution_count": 33,
     "metadata": {},
     "output_type": "execute_result"
    }
   ],
   "source": [
    "model.fit(x_train,y_train)\n",
    "model2.fit(x2_train,y2_train)"
   ]
  },
  {
   "cell_type": "code",
   "execution_count": 34,
   "id": "8aabe80a",
   "metadata": {},
   "outputs": [
    {
     "name": "stdout",
     "output_type": "stream",
     "text": [
      "Train Score:  0.5554337250189864\n",
      "Test Score:  0.35940880381777096\n",
      "Train X Score:  0.563967095625916\n",
      "Test X Score:  0.3569777322064769\n"
     ]
    }
   ],
   "source": [
    "y_predict = model.predict(x_test)\n",
    "train_score = model.score(x_train,y_train)\n",
    "test_score = model.score(x_test,y_test)\n",
    "print(\"Train Score: \",train_score)\n",
    "print(\"Test Score: \",test_score)\n",
    "\n",
    "Y_predict = model2.predict(x2_test)\n",
    "Train_score = model2.score(x2_train,y2_train)\n",
    "Test_score = model2.score(x2_test,y2_test)\n",
    "print(\"Train X Score: \",Train_score)\n",
    "print(\"Test X Score: \",Test_score)"
   ]
  },
  {
   "cell_type": "code",
   "execution_count": null,
   "id": "30c24954",
   "metadata": {},
   "outputs": [],
   "source": []
  }
 ],
 "metadata": {
  "kernelspec": {
   "display_name": "Python 3 (ipykernel)",
   "language": "python",
   "name": "python3"
  },
  "language_info": {
   "codemirror_mode": {
    "name": "ipython",
    "version": 3
   },
   "file_extension": ".py",
   "mimetype": "text/x-python",
   "name": "python",
   "nbconvert_exporter": "python",
   "pygments_lexer": "ipython3",
   "version": "3.10.9"
  }
 },
 "nbformat": 4,
 "nbformat_minor": 5
}
