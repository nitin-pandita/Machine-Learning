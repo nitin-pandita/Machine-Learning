{
 "cells": [
  {
   "cell_type": "code",
   "execution_count": 1,
   "id": "2fc0419b",
   "metadata": {},
   "outputs": [],
   "source": [
    "import numpy as np"
   ]
  },
  {
   "cell_type": "code",
   "execution_count": 8,
   "id": "a133e25a",
   "metadata": {},
   "outputs": [],
   "source": [
    "def step_gradient(points,learning_rate,m,c):\n",
    "    M = len(points)\n",
    "    slope_m = 0\n",
    "    slope_c = 0\n",
    "    for i in range(M):\n",
    "        x = points[i,0]\n",
    "        y = points[i,1]\n",
    "        \n",
    "        slope_m += (-2/M) * (y - m * x - c) * (-x)\n",
    "        slope_c += (-2/M) * (y - m * x - c)\n",
    "    New_M = m - learning_rate * slope_m\n",
    "    New_C = c - learning_rate * slope_c\n",
    "    \n",
    "    return New_C,New_M"
   ]
  },
  {
   "cell_type": "code",
   "execution_count": null,
   "id": "1452e05b",
   "metadata": {},
   "outputs": [],
   "source": [
    "def cost(points,m,c):\n",
    "    total_cost = 0\n",
    "    M = len(points)\n",
    "    for i in range(M):\n",
    "        x = points[i,0]\n",
    "        y = points[i,1]\n",
    "        \n",
    "        total_cost += (1/M) * ((y - m * x -c)**2)\n",
    "        \n",
    "    return total_costotal_cost"
   ]
  },
  {
   "cell_type": "code",
   "execution_count": 3,
   "id": "7ff8f772",
   "metadata": {},
   "outputs": [],
   "source": [
    "def gd(points,learning_rate,no_iterations):\n",
    "    m = 0\n",
    "    c = 0\n",
    "   \n",
    "    for i in range(no_iterations):\n",
    "        print(i, 'Cost: ',)\n",
    "        m,c = step_gradient(points,learning_rate,m,c)\n",
    "    return m,c"
   ]
  },
  {
   "cell_type": "code",
   "execution_count": 6,
   "id": "709152eb",
   "metadata": {},
   "outputs": [],
   "source": [
    "def run():\n",
    "    points = np.loadtxt('data.csv',delimiter=',')\n",
    "    learning_rate = 0.001\n",
    "    no_iterations = 100\n",
    "    m,c = gd(points,learning_rate,no_iterations)\n",
    "    print( m,c)"
   ]
  },
  {
   "cell_type": "code",
   "execution_count": 9,
   "id": "bf1d2db5",
   "metadata": {},
   "outputs": [
    {
     "name": "stdout",
     "output_type": "stream",
     "text": [
      "-9.886521250144438e+38 -9.883088538089794e+38\n"
     ]
    }
   ],
   "source": [
    "run()"
   ]
  },
  {
   "cell_type": "code",
   "execution_count": null,
   "id": "d3a17773",
   "metadata": {},
   "outputs": [],
   "source": []
  }
 ],
 "metadata": {
  "kernelspec": {
   "display_name": "Python 3 (ipykernel)",
   "language": "python",
   "name": "python3"
  },
  "language_info": {
   "codemirror_mode": {
    "name": "ipython",
    "version": 3
   },
   "file_extension": ".py",
   "mimetype": "text/x-python",
   "name": "python",
   "nbconvert_exporter": "python",
   "pygments_lexer": "ipython3",
   "version": "3.10.9"
  }
 },
 "nbformat": 4,
 "nbformat_minor": 5
}
